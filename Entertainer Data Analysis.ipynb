{
 "cells": [
  {
   "cell_type": "markdown",
   "id": "463b83aa",
   "metadata": {},
   "source": [
    "# Entertainer Data Analysis "
   ]
  },
  {
   "cell_type": "code",
   "execution_count": 5,
   "id": "15b6c718",
   "metadata": {},
   "outputs": [],
   "source": [
    "import numpy as np"
   ]
  },
  {
   "cell_type": "code",
   "execution_count": 6,
   "id": "fa322346",
   "metadata": {},
   "outputs": [],
   "source": [
    "import pandas as pd"
   ]
  },
  {
   "cell_type": "code",
   "execution_count": 7,
   "id": "5535e37d",
   "metadata": {},
   "outputs": [],
   "source": [
    "import matplotlib.pyplot as plt"
   ]
  },
  {
   "cell_type": "code",
   "execution_count": 8,
   "id": "99ffd7ed",
   "metadata": {},
   "outputs": [],
   "source": [
    "data = pd.read_excel(r'C:\\Users\\mshas\\Data Analytics Dashboard\\Entertainers Data Analysis\\Entertainer - Final.xlsx')"
   ]
  },
  {
   "cell_type": "code",
   "execution_count": 9,
   "id": "f0f16dd3",
   "metadata": {
    "scrolled": true
   },
   "outputs": [
    {
     "data": {
      "text/html": [
       "<div>\n",
       "<style scoped>\n",
       "    .dataframe tbody tr th:only-of-type {\n",
       "        vertical-align: middle;\n",
       "    }\n",
       "\n",
       "    .dataframe tbody tr th {\n",
       "        vertical-align: top;\n",
       "    }\n",
       "\n",
       "    .dataframe thead th {\n",
       "        text-align: right;\n",
       "    }\n",
       "</style>\n",
       "<table border=\"1\" class=\"dataframe\">\n",
       "  <thead>\n",
       "    <tr style=\"text-align: right;\">\n",
       "      <th></th>\n",
       "      <th>Entertainer</th>\n",
       "      <th>Gender (traditional)</th>\n",
       "      <th>Birth Year</th>\n",
       "      <th>Year of Breakthrough/#1 Hit/Award Nomination</th>\n",
       "      <th>Breakthrough Name</th>\n",
       "      <th>Year of First Oscar/Grammy/Emmy</th>\n",
       "      <th>Year of Last Major Work (arguable)</th>\n",
       "      <th>Year of Death</th>\n",
       "      <th>Award Won from Breakthrough</th>\n",
       "      <th>Total Awards won</th>\n",
       "      <th>Total Nominees</th>\n",
       "      <th>Profession</th>\n",
       "      <th>Oscar Won</th>\n",
       "      <th>Grammy Won</th>\n",
       "      <th>Emmy Won</th>\n",
       "      <th>Other Awards</th>\n",
       "    </tr>\n",
       "  </thead>\n",
       "  <tbody>\n",
       "    <tr>\n",
       "      <th>0</th>\n",
       "      <td>Adele</td>\n",
       "      <td>F</td>\n",
       "      <td>1988</td>\n",
       "      <td>2008</td>\n",
       "      <td>19</td>\n",
       "      <td>2009.0</td>\n",
       "      <td>2016</td>\n",
       "      <td>NaN</td>\n",
       "      <td>Grammy</td>\n",
       "      <td>32</td>\n",
       "      <td>64</td>\n",
       "      <td>Singer</td>\n",
       "      <td>1</td>\n",
       "      <td>15</td>\n",
       "      <td>0</td>\n",
       "      <td>16</td>\n",
       "    </tr>\n",
       "    <tr>\n",
       "      <th>1</th>\n",
       "      <td>Angelina Jolie</td>\n",
       "      <td>F</td>\n",
       "      <td>1975</td>\n",
       "      <td>1999</td>\n",
       "      <td>Girl, Interrupted</td>\n",
       "      <td>1999.0</td>\n",
       "      <td>2016</td>\n",
       "      <td>NaN</td>\n",
       "      <td>Oscar</td>\n",
       "      <td>58</td>\n",
       "      <td>174</td>\n",
       "      <td>Actor</td>\n",
       "      <td>1</td>\n",
       "      <td>0</td>\n",
       "      <td>0</td>\n",
       "      <td>57</td>\n",
       "    </tr>\n",
       "    <tr>\n",
       "      <th>2</th>\n",
       "      <td>Aretha Franklin</td>\n",
       "      <td>F</td>\n",
       "      <td>1942</td>\n",
       "      <td>1967</td>\n",
       "      <td>I Never Loved a Man (The Way I Love You)</td>\n",
       "      <td>1968.0</td>\n",
       "      <td>2014</td>\n",
       "      <td>NaN</td>\n",
       "      <td>No Award</td>\n",
       "      <td>29</td>\n",
       "      <td>67</td>\n",
       "      <td>Singer</td>\n",
       "      <td>0</td>\n",
       "      <td>20</td>\n",
       "      <td>0</td>\n",
       "      <td>9</td>\n",
       "    </tr>\n",
       "    <tr>\n",
       "      <th>3</th>\n",
       "      <td>Bette Davis</td>\n",
       "      <td>F</td>\n",
       "      <td>1908</td>\n",
       "      <td>1934</td>\n",
       "      <td>Of Human Bondage</td>\n",
       "      <td>1935.0</td>\n",
       "      <td>1989</td>\n",
       "      <td>1989.0</td>\n",
       "      <td>No Award</td>\n",
       "      <td>34</td>\n",
       "      <td>57</td>\n",
       "      <td>Actor</td>\n",
       "      <td>2</td>\n",
       "      <td>0</td>\n",
       "      <td>1</td>\n",
       "      <td>31</td>\n",
       "    </tr>\n",
       "    <tr>\n",
       "      <th>4</th>\n",
       "      <td>Betty White</td>\n",
       "      <td>F</td>\n",
       "      <td>1922</td>\n",
       "      <td>1952</td>\n",
       "      <td>Life with Elilzabeth</td>\n",
       "      <td>1976.0</td>\n",
       "      <td>2016</td>\n",
       "      <td>NaN</td>\n",
       "      <td>Emmy</td>\n",
       "      <td>39</td>\n",
       "      <td>79</td>\n",
       "      <td>Actor</td>\n",
       "      <td>0</td>\n",
       "      <td>2</td>\n",
       "      <td>5</td>\n",
       "      <td>32</td>\n",
       "    </tr>\n",
       "  </tbody>\n",
       "</table>\n",
       "</div>"
      ],
      "text/plain": [
       "       Entertainer Gender (traditional)  Birth Year  \\\n",
       "0            Adele                    F        1988   \n",
       "1   Angelina Jolie                    F        1975   \n",
       "2  Aretha Franklin                    F        1942   \n",
       "3      Bette Davis                    F        1908   \n",
       "4      Betty White                    F        1922   \n",
       "\n",
       "   Year of Breakthrough/#1 Hit/Award Nomination  \\\n",
       "0                                          2008   \n",
       "1                                          1999   \n",
       "2                                          1967   \n",
       "3                                          1934   \n",
       "4                                          1952   \n",
       "\n",
       "                          Breakthrough Name  Year of First Oscar/Grammy/Emmy  \\\n",
       "0                                        19                           2009.0   \n",
       "1                         Girl, Interrupted                           1999.0   \n",
       "2  I Never Loved a Man (The Way I Love You)                           1968.0   \n",
       "3                          Of Human Bondage                           1935.0   \n",
       "4                      Life with Elilzabeth                           1976.0   \n",
       "\n",
       "   Year of Last Major Work (arguable)  Year of Death  \\\n",
       "0                                2016            NaN   \n",
       "1                                2016            NaN   \n",
       "2                                2014            NaN   \n",
       "3                                1989         1989.0   \n",
       "4                                2016            NaN   \n",
       "\n",
       "  Award Won from Breakthrough  Total Awards won  Total Nominees Profession  \\\n",
       "0                      Grammy                32              64     Singer   \n",
       "1                       Oscar                58             174      Actor   \n",
       "2                    No Award                29              67     Singer   \n",
       "3                    No Award                34              57      Actor   \n",
       "4                        Emmy                39              79      Actor   \n",
       "\n",
       "   Oscar Won  Grammy Won  Emmy Won  Other Awards   \n",
       "0          1          15         0             16  \n",
       "1          1           0         0             57  \n",
       "2          0          20         0              9  \n",
       "3          2           0         1             31  \n",
       "4          0           2         5             32  "
      ]
     },
     "execution_count": 9,
     "metadata": {},
     "output_type": "execute_result"
    }
   ],
   "source": [
    "data.head()"
   ]
  },
  {
   "cell_type": "markdown",
   "id": "5346e58e",
   "metadata": {},
   "source": [
    "# 1. How many male and female entertainers are there ?"
   ]
  },
  {
   "cell_type": "code",
   "execution_count": 10,
   "id": "2aee3b59",
   "metadata": {},
   "outputs": [
    {
     "name": "stdout",
     "output_type": "stream",
     "text": [
      "Index(['Entertainer', 'Gender (traditional)', 'Birth Year',\n",
      "       'Year of Breakthrough/#1 Hit/Award Nomination', 'Breakthrough Name',\n",
      "       'Year of First Oscar/Grammy/Emmy', 'Year of Last Major Work (arguable)',\n",
      "       'Year of Death', 'Award Won from Breakthrough', 'Total Awards won',\n",
      "       'Total Nominees', 'Profession', 'Oscar Won', 'Grammy Won', 'Emmy Won',\n",
      "       'Other Awards '],\n",
      "      dtype='object')\n"
     ]
    }
   ],
   "source": [
    "print(data.columns)"
   ]
  },
  {
   "cell_type": "code",
   "execution_count": 11,
   "id": "feb95018",
   "metadata": {},
   "outputs": [],
   "source": [
    "genders = data['Gender (traditional)'].to_numpy()"
   ]
  },
  {
   "cell_type": "code",
   "execution_count": 12,
   "id": "b9df6b56",
   "metadata": {},
   "outputs": [],
   "source": [
    "unique_genders, gender_counts = np.unique(genders, return_counts=True)"
   ]
  },
  {
   "cell_type": "code",
   "execution_count": 13,
   "id": "7852a8c2",
   "metadata": {},
   "outputs": [],
   "source": [
    "gender_count_dict = dict(zip(unique_genders, gender_counts))"
   ]
  },
  {
   "cell_type": "code",
   "execution_count": 14,
   "id": "645d3b97",
   "metadata": {},
   "outputs": [
    {
     "name": "stdout",
     "output_type": "stream",
     "text": [
      "Number of F entertainers: 20\n",
      "Number of M entertainers: 50\n"
     ]
    }
   ],
   "source": [
    "for gender, count in gender_count_dict.items():\n",
    "    print(f\"Number of {gender} entertainers: {count}\")"
   ]
  },
  {
   "cell_type": "markdown",
   "id": "d25c4df9",
   "metadata": {},
   "source": [
    "# 2. How many Entertainers had a Breakthrough in the year 2000 or later ?"
   ]
  },
  {
   "cell_type": "code",
   "execution_count": 15,
   "id": "432f08b6",
   "metadata": {},
   "outputs": [],
   "source": [
    "entertainer_names = data['Entertainer'].to_numpy()"
   ]
  },
  {
   "cell_type": "code",
   "execution_count": 19,
   "id": "161d873c",
   "metadata": {},
   "outputs": [],
   "source": [
    "breakthrough_years = data['Year of Breakthrough/#1 Hit/Award Nomination'].to_numpy()"
   ]
  },
  {
   "cell_type": "code",
   "execution_count": 20,
   "id": "5141a993",
   "metadata": {},
   "outputs": [],
   "source": [
    "indices = np.where(breakthrough_years >= 2000)[0]"
   ]
  },
  {
   "cell_type": "code",
   "execution_count": 21,
   "id": "eb95e375",
   "metadata": {},
   "outputs": [
    {
     "name": "stdout",
     "output_type": "stream",
     "text": [
      "Entertainer: Adele, Breakthrough Year: 2008\n",
      "Entertainer: Justin Timberlake, Breakthrough Year: 2000\n",
      "Entertainer: Keifer Sutherland, Breakthrough Year: 2001\n",
      "Entertainer: Lady Gaga, Breakthrough Year: 2008\n"
     ]
    }
   ],
   "source": [
    "for i in range(4):\n",
    "    index = indices[i]\n",
    "    name = entertainer_names[index]\n",
    "    year = breakthrough_years[index]\n",
    "    print(f\"Entertainer: {name}, Breakthrough Year: {year}\")"
   ]
  },
  {
   "cell_type": "markdown",
   "id": "ebfdf1b9",
   "metadata": {},
   "source": [
    "# 3. who is the oldest Entertainer in the dataset ?"
   ]
  },
  {
   "cell_type": "code",
   "execution_count": 22,
   "id": "47f764a8",
   "metadata": {},
   "outputs": [],
   "source": [
    "birth_years = data['Birth Year'].to_numpy()"
   ]
  },
  {
   "cell_type": "code",
   "execution_count": 23,
   "id": "9db15a55",
   "metadata": {},
   "outputs": [],
   "source": [
    "oldest_index = np.argmin(birth_years)"
   ]
  },
  {
   "cell_type": "code",
   "execution_count": 24,
   "id": "25985913",
   "metadata": {},
   "outputs": [],
   "source": [
    "oldest_entertainer = data.loc[oldest_index, 'Entertainer']"
   ]
  },
  {
   "cell_type": "code",
   "execution_count": 25,
   "id": "56343e74",
   "metadata": {},
   "outputs": [
    {
     "name": "stdout",
     "output_type": "stream",
     "text": [
      "Oldest Entertainer: Charlie Chaplin\n"
     ]
    }
   ],
   "source": [
    "print(\"Oldest Entertainer:\", oldest_entertainer)"
   ]
  },
  {
   "cell_type": "markdown",
   "id": "de07947a",
   "metadata": {},
   "source": [
    "# 4. How many Entertainers have won an Oscar ?"
   ]
  },
  {
   "cell_type": "code",
   "execution_count": 26,
   "id": "778747a1",
   "metadata": {},
   "outputs": [],
   "source": [
    "entertainer_names = data['Entertainer'].to_numpy()"
   ]
  },
  {
   "cell_type": "code",
   "execution_count": 27,
   "id": "298fed0b",
   "metadata": {},
   "outputs": [],
   "source": [
    "oscar_won = data['Oscar Won'].to_numpy()"
   ]
  },
  {
   "cell_type": "code",
   "execution_count": 28,
   "id": "ea76d12c",
   "metadata": {},
   "outputs": [],
   "source": [
    "indices = np.where(oscar_won > 0)[0]"
   ]
  },
  {
   "cell_type": "code",
   "execution_count": 29,
   "id": "cf121ac1",
   "metadata": {},
   "outputs": [
    {
     "name": "stdout",
     "output_type": "stream",
     "text": [
      "Entertainers who have won an Oscar:\n",
      "Adele\n",
      "Angelina Jolie\n",
      "Bette Davis\n",
      "Bing Crosby\n",
      "Charlie Chaplin\n",
      "Clark Gable\n",
      "Denzel Washington\n",
      "Dustin Hoffman\n",
      "Elton John\n",
      "Frank Sinatra\n",
      "Gene Hackman\n",
      "Gregory Peck\n",
      "Humphrey Bogart\n",
      "Jimmy Stewart\n",
      "Joan Crawford\n",
      "John Lennon\n",
      "John Wayne\n",
      "Katherine Hepburn\n",
      "Lady Gaga\n",
      "Leonardo DiCaprio\n",
      "Marlon Brando\n",
      "Meryl Streep\n",
      "Morgan Freeman\n",
      "Paul McCartney\n",
      "Paul Newman\n",
      "Prince\n",
      "Robert Redford\n",
      "Sidney Poitier\n",
      "Stevie Wonder\n",
      "Tom Hanks\n"
     ]
    }
   ],
   "source": [
    "print(\"Entertainers who have won an Oscar:\")\n",
    "for index in indices:\n",
    "    name = entertainer_names[index]\n",
    "    print(name)"
   ]
  },
  {
   "cell_type": "code",
   "execution_count": 30,
   "id": "a0a2a8d0",
   "metadata": {},
   "outputs": [],
   "source": [
    "num_oscar_winners = np.sum(oscar_won > 0)"
   ]
  },
  {
   "cell_type": "code",
   "execution_count": 31,
   "id": "9b3b67cc",
   "metadata": {},
   "outputs": [
    {
     "name": "stdout",
     "output_type": "stream",
     "text": [
      "Number of entertainers who have won an Oscar: 30\n"
     ]
    }
   ],
   "source": [
    "print(\"Number of entertainers who have won an Oscar:\", num_oscar_winners)"
   ]
  },
  {
   "cell_type": "markdown",
   "id": "5511743f",
   "metadata": {},
   "source": [
    "# 5. How many Entertainers have won awards other than Oscar, Grammy or Emmy ?"
   ]
  },
  {
   "cell_type": "code",
   "execution_count": 32,
   "id": "2976e331",
   "metadata": {},
   "outputs": [],
   "source": [
    "other_awards = data['Other Awards '].to_numpy()"
   ]
  },
  {
   "cell_type": "code",
   "execution_count": 33,
   "id": "7811cef1",
   "metadata": {},
   "outputs": [],
   "source": [
    "num_other_award_winners = np.sum(other_awards > 0)"
   ]
  },
  {
   "cell_type": "code",
   "execution_count": 34,
   "id": "3c0776ff",
   "metadata": {},
   "outputs": [
    {
     "name": "stdout",
     "output_type": "stream",
     "text": [
      "Number of entertainers who have won other awards: 68\n"
     ]
    }
   ],
   "source": [
    "print(\"Number of entertainers who have won other awards:\", num_other_award_winners)"
   ]
  },
  {
   "cell_type": "markdown",
   "id": "ee06376a",
   "metadata": {},
   "source": [
    "# 6. What is the average number of awards won by Entertainers ?"
   ]
  },
  {
   "cell_type": "code",
   "execution_count": 37,
   "id": "a4ae6613",
   "metadata": {},
   "outputs": [],
   "source": [
    "awards_won = data['Total Awards won'].to_numpy()"
   ]
  },
  {
   "cell_type": "code",
   "execution_count": 38,
   "id": "c2706297",
   "metadata": {},
   "outputs": [],
   "source": [
    "average_awards_won = np.mean(awards_won)"
   ]
  },
  {
   "cell_type": "code",
   "execution_count": 39,
   "id": "0b07932c",
   "metadata": {},
   "outputs": [],
   "source": [
    "average_awards_won = int(average_awards_won)"
   ]
  },
  {
   "cell_type": "code",
   "execution_count": 40,
   "id": "81c58648",
   "metadata": {},
   "outputs": [
    {
     "name": "stdout",
     "output_type": "stream",
     "text": [
      "Average number of awards won by entertainers: 33\n"
     ]
    }
   ],
   "source": [
    "print(\"Average number of awards won by entertainers:\", average_awards_won)"
   ]
  },
  {
   "cell_type": "markdown",
   "id": "0d838bc2",
   "metadata": {},
   "source": [
    "# 7. How many entertainers have received an Oscar, a Grammy, and an Emmy?"
   ]
  },
  {
   "cell_type": "code",
   "execution_count": 41,
   "id": "07523a1e",
   "metadata": {},
   "outputs": [],
   "source": [
    "oscar_won = data['Oscar Won'].to_numpy()"
   ]
  },
  {
   "cell_type": "code",
   "execution_count": 42,
   "id": "75a8c608",
   "metadata": {},
   "outputs": [],
   "source": [
    "grammy_won = data['Grammy Won'].to_numpy()"
   ]
  },
  {
   "cell_type": "code",
   "execution_count": 43,
   "id": "a1633e1e",
   "metadata": {},
   "outputs": [],
   "source": [
    "emmy_won = data['Emmy Won'].to_numpy()"
   ]
  },
  {
   "cell_type": "code",
   "execution_count": 44,
   "id": "a2b57c02",
   "metadata": {},
   "outputs": [],
   "source": [
    "indices = np.where((oscar_won > 0) & (grammy_won > 0) & (emmy_won > 0))"
   ]
  },
  {
   "cell_type": "code",
   "execution_count": 45,
   "id": "b6f41592",
   "metadata": {},
   "outputs": [],
   "source": [
    "num_entertainers = len(indices[0])"
   ]
  },
  {
   "cell_type": "code",
   "execution_count": 46,
   "id": "36074570",
   "metadata": {},
   "outputs": [
    {
     "name": "stdout",
     "output_type": "stream",
     "text": [
      "Numer of Entertainers with an Oscar, a Grammy and an Emmy : 0\n"
     ]
    }
   ],
   "source": [
    "print(\"Numer of Entertainers with an Oscar, a Grammy and an Emmy :\", num_entertainers)"
   ]
  },
  {
   "cell_type": "markdown",
   "id": "cb9f2674",
   "metadata": {},
   "source": [
    "# 8. What is the percentage of Entertainers who have won an Award from their Breakthrough ?"
   ]
  },
  {
   "cell_type": "code",
   "execution_count": 47,
   "id": "360f8358",
   "metadata": {},
   "outputs": [],
   "source": [
    "award_won_from_breakthrough = data['Award Won from Breakthrough'].to_numpy()"
   ]
  },
  {
   "cell_type": "code",
   "execution_count": 48,
   "id": "0e23cc54",
   "metadata": {},
   "outputs": [],
   "source": [
    "num_entertainers_with_award = np.count_nonzero(award_won_from_breakthrough)"
   ]
  },
  {
   "cell_type": "code",
   "execution_count": 49,
   "id": "6831ad70",
   "metadata": {},
   "outputs": [],
   "source": [
    "total_entertainers = data.shape[0]"
   ]
  },
  {
   "cell_type": "code",
   "execution_count": 50,
   "id": "9def675c",
   "metadata": {},
   "outputs": [],
   "source": [
    "percentage = (num_entertainers_with_award / total_entertainers) * 100"
   ]
  },
  {
   "cell_type": "code",
   "execution_count": 51,
   "id": "d066f45c",
   "metadata": {},
   "outputs": [
    {
     "name": "stdout",
     "output_type": "stream",
     "text": [
      "Percentage of entertainers who have won an award from their breakthrough: 100.0\n"
     ]
    }
   ],
   "source": [
    "print(\"Percentage of entertainers who have won an award from their breakthrough:\", percentage)"
   ]
  },
  {
   "cell_type": "markdown",
   "id": "60717e80",
   "metadata": {},
   "source": [
    "# 9. How many Entertainers have received a total of more than 50 awards ?"
   ]
  },
  {
   "cell_type": "code",
   "execution_count": 52,
   "id": "f5bc9188",
   "metadata": {},
   "outputs": [],
   "source": [
    "total_awards = data['Total Awards won'].to_numpy()"
   ]
  },
  {
   "cell_type": "code",
   "execution_count": 53,
   "id": "fe778306",
   "metadata": {},
   "outputs": [],
   "source": [
    "indices = np.where(total_awards > 50)"
   ]
  },
  {
   "cell_type": "code",
   "execution_count": 54,
   "id": "857fafbf",
   "metadata": {},
   "outputs": [],
   "source": [
    "num_entertainers = len(indices[0])"
   ]
  },
  {
   "cell_type": "code",
   "execution_count": 55,
   "id": "eff6fa46",
   "metadata": {},
   "outputs": [
    {
     "name": "stdout",
     "output_type": "stream",
     "text": [
      "Number of entertainers with more than 50 awards: 14\n"
     ]
    }
   ],
   "source": [
    "print(\"Number of entertainers with more than 50 awards:\", num_entertainers)"
   ]
  },
  {
   "cell_type": "markdown",
   "id": "81738f3a",
   "metadata": {},
   "source": [
    "# 10. Determine the number of Entertainers who have not received awards in the dataset ?"
   ]
  },
  {
   "cell_type": "code",
   "execution_count": 57,
   "id": "835af577",
   "metadata": {},
   "outputs": [],
   "source": [
    "total_awards = data['Total Awards won'].to_numpy()"
   ]
  },
  {
   "cell_type": "code",
   "execution_count": 58,
   "id": "ecc008df",
   "metadata": {},
   "outputs": [],
   "source": [
    "indices = np.where(total_awards == 0)"
   ]
  },
  {
   "cell_type": "code",
   "execution_count": 59,
   "id": "eeaa93d7",
   "metadata": {},
   "outputs": [],
   "source": [
    "num_entertainers = len(indices[0])"
   ]
  },
  {
   "cell_type": "code",
   "execution_count": 60,
   "id": "9e3d5e92",
   "metadata": {},
   "outputs": [
    {
     "name": "stdout",
     "output_type": "stream",
     "text": [
      "Number of entertainers with no awards: 0\n"
     ]
    }
   ],
   "source": [
    "print(\"Number of entertainers with no awards:\", num_entertainers)"
   ]
  },
  {
   "cell_type": "markdown",
   "id": "64579686",
   "metadata": {},
   "source": [
    "# 11. How many entertainers are there in each gender category ?"
   ]
  },
  {
   "cell_type": "code",
   "execution_count": 61,
   "id": "4f82d4c2",
   "metadata": {},
   "outputs": [],
   "source": [
    "genders = data['Gender (traditional)'].to_numpy()"
   ]
  },
  {
   "cell_type": "code",
   "execution_count": 62,
   "id": "4591e332",
   "metadata": {},
   "outputs": [],
   "source": [
    "unique_genders, gender_counts = np.unique(genders, return_counts=True)"
   ]
  },
  {
   "cell_type": "code",
   "execution_count": 67,
   "id": "74acb57d",
   "metadata": {},
   "outputs": [
    {
     "data": {
      "image/png": "[encoded data removed]",
      "text/plain": [
       "<Figure size 640x480 with 1 Axes>"
      ]
     },
     "metadata": {},
     "output_type": "display_data"
    }
   ],
   "source": [
    "plt.bar(unique_genders, gender_counts)\n",
    "plt.xlabel('Gender')\n",
    "plt.ylabel('Count')\n",
    "plt.title('Number of Entertainers by Gender')\n",
    "plt.show()"
   ]
  },
  {
   "cell_type": "markdown",
   "id": "6659de99",
   "metadata": {},
   "source": [
    "# 12. What are the top 10 entertainers with the most awards?"
   ]
  },
  {
   "cell_type": "code",
   "execution_count": 68,
   "id": "26e73767",
   "metadata": {},
   "outputs": [],
   "source": [
    "sorted_data = data.sort_values(by='Total Awards won', ascending=False)"
   ]
  },
  {
   "cell_type": "code",
   "execution_count": 69,
   "id": "23a96008",
   "metadata": {},
   "outputs": [],
   "source": [
    "top_10 = sorted_data.head(10)"
   ]
  },
  {
   "cell_type": "code",
   "execution_count": 71,
   "id": "6865be7d",
   "metadata": {},
   "outputs": [],
   "source": [
    "entertainer_names = top_10['Entertainer'].to_numpy()"
   ]
  },
  {
   "cell_type": "code",
   "execution_count": 72,
   "id": "1a315ce0",
   "metadata": {},
   "outputs": [],
   "source": [
    "awards_counts = top_10['Total Awards won'].to_numpy()"
   ]
  },
  {
   "cell_type": "code",
   "execution_count": 81,
   "id": "144401bb",
   "metadata": {},
   "outputs": [
    {
     "data": {
      "image/png": "[encoded data removed]",
      "text/plain": [
       "<Figure size 640x480 with 1 Axes>"
      ]
     },
     "metadata": {},
     "output_type": "display_data"
    }
   ],
   "source": [
    "plt.barh(entertainer_names, awards_counts)\n",
    "plt.xlabel('Total Awards')\n",
    "plt.ylabel('Entertainer Name')\n",
    "plt.title('Top 10 Entertainers with the Most Awards')\n",
    "plt.show()"
   ]
  },
  {
   "cell_type": "markdown",
   "id": "93812ce4",
   "metadata": {},
   "source": [
    "# 13 How many entertainers belong to each profession category?"
   ]
  },
  {
   "cell_type": "code",
   "execution_count": 82,
   "id": "16b95e85",
   "metadata": {},
   "outputs": [],
   "source": [
    "professions = data['Profession'].to_numpy()"
   ]
  },
  {
   "cell_type": "code",
   "execution_count": 83,
   "id": "30f33122",
   "metadata": {},
   "outputs": [],
   "source": [
    "unique_professions, profession_counts = np.unique(professions, return_counts=True)"
   ]
  },
  {
   "cell_type": "code",
   "execution_count": 84,
   "id": "aa126cdb",
   "metadata": {},
   "outputs": [
    {
     "data": {
      "image/png": "[encoded data removed]",
      "text/plain": [
       "<Figure size 640x480 with 1 Axes>"
      ]
     },
     "metadata": {},
     "output_type": "display_data"
    }
   ],
   "source": [
    "plt.bar(unique_professions, profession_counts)\n",
    "plt.xlabel('Profession')\n",
    "plt.ylabel('Count')\n",
    "plt.title('Number of Entertainers by Profession')\n",
    "plt.xticks(rotation=90)\n",
    "plt.show()"
   ]
  },
  {
   "cell_type": "markdown",
   "id": "ea73a67e",
   "metadata": {},
   "source": [
    "# - By Shashikant Maurya"
   ]
  }
 ],
 "metadata": {
  "kernelspec": {
   "display_name": "Python 3 (ipykernel)",
   "language": "python",
   "name": "python3"
  },
  "language_info": {
   "codemirror_mode": {
    "name": "ipython",
    "version": 3
   },
   "file_extension": ".py",
   "mimetype": "text/x-python",
   "name": "python",
   "nbconvert_exporter": "python",
   "pygments_lexer": "ipython3",
   "version": "3.9.13"
  }
 },
 "nbformat": 4,
 "nbformat_minor": 5
}
